{
 "cells": [
  {
   "cell_type": "markdown",
   "id": "a5f89930-772e-499b-b479-1d768985a49b",
   "metadata": {},
   "source": [
    "# Pandas\n",
    "\n",
    "Pandas is an open-source data analysis and manipulation library for Python. It is widely used for working with structured data (like tables), offering powerful, flexible, and easy-to-use tools to process and analyze large amounts of data efficiently.\n",
    "\n",
    "Why Use Pandas?\n",
    "\n",
    "* Pandas allows us to analyze big data and make conclusions based on statistical theories.\n",
    "* Pandas can clean messy data sets, and make them readable and relevant.\n",
    "* Relevant data is very important in data science.\n",
    "\n",
    "## Installation\n",
    "\n",
    "Install it using this command: `pip install pandas`\n",
    "\n",
    "## Data Structures\n",
    "\n",
    "It provides two primary data structures: Series (1D) and DataFrame (2D), allowing for easy manipulation of structured data."
   ]
  },
  {
   "cell_type": "code",
   "execution_count": null,
   "id": "19decc3c-8c92-45e9-b2d8-d7474bd85a96",
   "metadata": {},
   "outputs": [],
   "source": [
    "pip install pandas"
   ]
  },
  {
   "cell_type": "code",
   "execution_count": null,
   "id": "00db56c2-2e36-44f1-b93d-5ecb5f445813",
   "metadata": {},
   "outputs": [],
   "source": [
    "import pandas as pd\n",
    "\n",
    "# Create a Series\n",
    "s = pd.Series([1, 2, 3, 4, 5])\n",
    "print(s)\n",
    "\n",
    "m = [9,2,4]\n",
    "# Labels\n",
    "myvar = pd.Series(m, index = [\"x\", \"y\", \"z\"])\n",
    "print(myvar)\n",
    "\n",
    "# Create a DataFrame\n",
    "data = {'Name': ['John', 'Jane', 'Tom'],\n",
    "        'Age': [23, 25, 30],\n",
    "        'City': ['New York', 'Paris', 'London']}\n",
    "df = pd.DataFrame(data)\n",
    "print(df)\n",
    "\n",
    "#refer to the row index: Pandas use the loc attribute to return one or more specified row(s)\n",
    "print(df.loc[0:1])\n",
    "\n",
    "#‌ Load Files Into a DataFrame\n",
    "#df = pd.read_csv('data.csv')\n",
    "#print(df) "
   ]
  },
  {
   "cell_type": "markdown",
   "id": "e65a1fe0-fa53-4280-9360-1d452c4a8c1a",
   "metadata": {},
   "source": [
    "## DataFrame Manipulation\n",
    "\n",
    "DataFrames can be sliced, indexed, and modified like matrices. This includes adding, modifying, and removing rows/columns."
   ]
  },
  {
   "cell_type": "code",
   "execution_count": null,
   "id": "5a50e96d-dbef-4b68-8f29-1a0fcf78a970",
   "metadata": {},
   "outputs": [],
   "source": [
    "# Select a single column\n",
    "print(df['Name'])\n",
    "\n",
    "# Add a new column\n",
    "df['Salary'] = [50000, 60000, 70000]\n",
    "\n",
    "# Select rows using slicing\n",
    "print(df.loc[1:2])  # selects rows by labels\n",
    "print(df.iloc[1:2])  # selects rows by index positions\n",
    "\n",
    "# Drop a column\n",
    "df.drop('Salary', axis=1, inplace=True)\n",
    "print(df)"
   ]
  },
  {
   "cell_type": "markdown",
   "id": "ea7fb0b4-2806-4aac-aad1-ff2faa9eed10",
   "metadata": {},
   "source": [
    "## Analyzing DataFrames\n",
    "\n",
    "One of the most used method for getting a quick overview of the DataFrame, is the `head()` method.\n",
    "The `head()` method returns the headers and a specified number of rows, starting from the top."
   ]
  },
  {
   "cell_type": "code",
   "execution_count": null,
   "id": "2656a731-f7e9-4954-8370-a714fb900c8b",
   "metadata": {},
   "outputs": [],
   "source": [
    "print(df.head())\n",
    "\n",
    "# Just first row\n",
    "print(df.head(1))"
   ]
  },
  {
   "cell_type": "markdown",
   "id": "a8df0bc7-cf0c-4892-af0b-3e1eebaa322f",
   "metadata": {},
   "source": [
    "\n",
    "There is also a `tail()` method for viewing the last rows of the DataFrame.\n",
    "The `tail()` method returns the headers and a specified number of rows, starting from the bottom.\n"
   ]
  },
  {
   "cell_type": "code",
   "execution_count": null,
   "id": "d94e8a0f-6256-4f9a-85f0-d16442bd5268",
   "metadata": {},
   "outputs": [],
   "source": [
    "data = {'Name': ['Alice', 'Bob', 'Charlie', 'David', 'Eva', 'Frank'],\n",
    "        'Age': [25, 30, 35, 40, 45, 50],\n",
    "        'City': ['New York', 'Paris', 'Berlin', 'London', 'Tokyo', 'Sydney']}\n",
    "\n",
    "df = pd.DataFrame(data)\n",
    "\n",
    "# Display the last 3 rows\n",
    "print(df.tail(3))"
   ]
  },
  {
   "cell_type": "markdown",
   "id": "e25fda53-ec37-417e-9656-bc18adeeec14",
   "metadata": {},
   "source": [
    "The DataFrames object has a method called `info()`, that gives you more information about the data set."
   ]
  },
  {
   "cell_type": "code",
   "execution_count": null,
   "id": "dd918581-8c7e-4be3-ade2-c279c0668efb",
   "metadata": {},
   "outputs": [],
   "source": [
    "print(df.info())"
   ]
  },
  {
   "cell_type": "markdown",
   "id": "d1783d59-d43e-44ee-8f0f-46a025094cd7",
   "metadata": {},
   "source": [
    "## Cleaning Data\n",
    "\n",
    "Data cleaning involves handling missing values, transforming data, and making the dataset ready for analysis."
   ]
  },
  {
   "cell_type": "code",
   "execution_count": null,
   "id": "74ec3a81-d801-4198-b90f-f4a1623d22ff",
   "metadata": {},
   "outputs": [],
   "source": [
    "# Creating a DataFrame with some missing values\n",
    "data = {'Name': ['Alice', 'Bob', None, 'David', 'Eva'],\n",
    "        'Age': [25, None, 35, 40, None],\n",
    "        'City': ['New York', 'Paris', 'Berlin', 'London', None]}\n",
    "\n",
    "df = pd.DataFrame(data)\n",
    "\n",
    "# Display original DataFrame\n",
    "print(\"Original DataFrame:\")\n",
    "print(df)\n",
    "\n",
    "# Fill missing values in the 'Age' column with the mean age\n",
    "df['Age'].fillna(df['Age'].mean())\n",
    "\n",
    "# Drop rows with any missing data\n",
    "df.dropna(inplace=True)\n",
    "\n",
    "# Renaming the 'Name' column to 'Full Name'\n",
    "df.rename(columns={'Name': 'Full Name'}, inplace=True)\n",
    "\n",
    "# Convert the 'Full Name' column to uppercase\n",
    "df['Full Name'] = df['Full Name'].str.upper()\n",
    "\n",
    "# Display the cleaned DataFrame\n",
    "print(\"\\nCleaned DataFrame:\")\n",
    "print(df)"
   ]
  },
  {
   "cell_type": "markdown",
   "id": "8936c685-4652-4448-bb77-8119dea593a8",
   "metadata": {},
   "source": [
    "## Filtering and Sorting\n",
    "\n",
    "You can filter data based on conditions and sort it by specific columns."
   ]
  },
  {
   "cell_type": "code",
   "execution_count": null,
   "id": "3499ecf0-5937-44d7-9ac2-6ac4e99c37a4",
   "metadata": {},
   "outputs": [],
   "source": [
    "# Filter rows where age is greater than 25\n",
    "filtered_df = df[df['Age'] > 25]\n",
    "print(filtered_df)\n",
    "\n",
    "# Sort by a column\n",
    "sorted_df = df.sort_values(by='Age', ascending=False)\n",
    "print(sorted_df)"
   ]
  },
  {
   "cell_type": "markdown",
   "id": "7e4d6cde-64ee-4561-9a51-edd05f29e020",
   "metadata": {},
   "source": [
    "## Aggregation and Grouping\n",
    "\n",
    "Grouping allows you to perform operations like sum, mean, and count on subsets of data."
   ]
  },
  {
   "cell_type": "code",
   "execution_count": null,
   "id": "fdb7751f-2466-4944-9fad-0bbe28ab7a46",
   "metadata": {},
   "outputs": [],
   "source": [
    "# Group data by city and calculate mean age\n",
    "grouped = df.groupby('City')['Age'].mean()\n",
    "\n",
    "# Count the number of occurrences per city\n",
    "city_count = df.groupby('City').size()\n",
    "print(grouped)\n",
    "print(city_count)"
   ]
  },
  {
   "cell_type": "markdown",
   "id": "8717187e-9b4b-45e7-9ba0-1bb6b3ef3cc8",
   "metadata": {},
   "source": [
    "These are just an overview of pandas. Feel free to ask questions to your teaching assistants."
   ]
  }
 ],
 "metadata": {
  "kernelspec": {
   "display_name": "Python 3 (ipykernel)",
   "language": "python",
   "name": "python3"
  },
  "language_info": {
   "codemirror_mode": {
    "name": "ipython",
    "version": 3
   },
   "file_extension": ".py",
   "mimetype": "text/x-python",
   "name": "python",
   "nbconvert_exporter": "python",
   "pygments_lexer": "ipython3",
   "version": "3.12.2"
  }
 },
 "nbformat": 4,
 "nbformat_minor": 5
}
